{
 "cells": [
  {
   "cell_type": "code",
   "execution_count": 1,
   "metadata": {
    "metadata": {}
   },
   "outputs": [],
   "source": [
    "from ultralytics import YOLO\n",
    "import cv2"
   ]
  },
  {
   "cell_type": "code",
   "execution_count": 2,
   "metadata": {
    "metadata": {}
   },
   "outputs": [],
   "source": [
    "model = YOLO('yolov8s-seg.pt') \n",
    "image = cv2.imread('original_bus.jpg')\n",
    "\n",
    "desired_image_size = (640, 640)\n",
    "\n",
    "# change input size according to the resolution of the image you want to process\n",
    "# e.g. desired_image_size = (640, 640)"
   ]
  },
  {
   "cell_type": "code",
   "execution_count": 3,
   "metadata": {
    "metadata": {}
   },
   "outputs": [
    {
     "name": "stdout",
     "output_type": "stream",
     "text": [
      "Ultralytics YOLOv8.1.17 🚀 Python-3.12.1 torch-2.2.0+cu121 CPU (11th Gen Intel Core(TM) i9-11950H 2.60GHz)\n",
      "YOLOv8s-seg summary (fused): 195 layers, 11810560 parameters, 0 gradients, 42.6 GFLOPs\n",
      "\n",
      "\u001b[34m\u001b[1mPyTorch:\u001b[0m starting from 'yolov8s-seg.pt' with input shape (1, 3, 640, 640) BCHW and output shape(s) ((1, 116, 8400), (1, 32, 160, 160)) (22.8 MB)\n",
      "\n",
      "\u001b[34m\u001b[1mONNX:\u001b[0m starting export with onnx 1.16.0 opset 17...\n",
      "\u001b[34m\u001b[1mONNX:\u001b[0m export success ✅ 0.7s, saved as 'yolov8s-seg.onnx' (45.3 MB)\n",
      "\n",
      "Export complete (2.2s)\n",
      "Results saved to \u001b[1m/home/matteo/Documents/my_experiments/yolov8/git_repo_tutorial\u001b[0m\n",
      "Predict:         yolo predict task=segment model=yolov8s-seg.onnx imgsz=640  \n",
      "Validate:        yolo val task=segment model=yolov8s-seg.onnx imgsz=640 data=coco.yaml  \n",
      "Visualize:       https://netron.app\n"
     ]
    },
    {
     "data": {
      "text/plain": [
       "'yolov8s-seg.onnx'"
      ]
     },
     "execution_count": 3,
     "metadata": {},
     "output_type": "execute_result"
    }
   ],
   "source": [
    "model.export(format='onnx', imgsz=desired_image_size)"
   ]
  },
  {
   "cell_type": "markdown",
   "metadata": {},
   "source": [
    "----------------------------------\n",
    "## TEST INFERENCE WITH ONNX RUNTIME"
   ]
  },
  {
   "cell_type": "code",
   "execution_count": 4,
   "metadata": {
    "metadata": {}
   },
   "outputs": [],
   "source": [
    "import onnxruntime as ort\n",
    "import numpy as np\n",
    "import matplotlib.pyplot as plt\n",
    "\n",
    "# import utils file fot postprocessing and visualization\n",
    "import utils"
   ]
  },
  {
   "cell_type": "code",
   "execution_count": 5,
   "metadata": {
    "metadata": {}
   },
   "outputs": [],
   "source": [
    "# Load YOLOv8s-seg model\n",
    "model_path = 'yolov8s-seg.onnx'\n",
    "ort_session = ort.InferenceSession(model_path)"
   ]
  },
  {
   "cell_type": "markdown",
   "metadata": {},
   "source": [
    "### Preprocess the image"
   ]
  },
  {
   "cell_type": "code",
   "execution_count": 6,
   "metadata": {
    "metadata": {}
   },
   "outputs": [],
   "source": [
    "resized_image = cv2.resize(image, desired_image_size) ## <---- if you need to resize the image\n",
    "input_image = resized_image.astype(np.float32) / 255.0\n",
    "input_image = np.transpose(input_image, [2, 0, 1])  # Change image layout to CHW (Channels First)\n",
    "input_image = np.expand_dims(input_image, axis=0) "
   ]
  },
  {
   "cell_type": "code",
   "execution_count": 7,
   "metadata": {
    "metadata": {}
   },
   "outputs": [
    {
     "data": {
      "text/plain": [
       "(1, 3, 640, 640)"
      ]
     },
     "execution_count": 7,
     "metadata": {},
     "output_type": "execute_result"
    }
   ],
   "source": [
    "input_image.shape"
   ]
  },
  {
   "cell_type": "code",
   "execution_count": 8,
   "metadata": {
    "metadata": {}
   },
   "outputs": [
    {
     "data": {
      "text/plain": [
       "(1080, 810, 3)"
      ]
     },
     "execution_count": 8,
     "metadata": {},
     "output_type": "execute_result"
    }
   ],
   "source": [
    "image.shape"
   ]
  },
  {
   "cell_type": "markdown",
   "metadata": {},
   "source": [
    "### Perform inference"
   ]
  },
  {
   "cell_type": "code",
   "execution_count": 9,
   "metadata": {
    "metadata": {}
   },
   "outputs": [],
   "source": [
    "outputs = ort_session.run(None, {'images': input_image})\n",
    "output_0=np.squeeze(outputs[0])\n",
    "prototypes=np.squeeze(outputs[1])"
   ]
  },
  {
   "cell_type": "code",
   "execution_count": 10,
   "metadata": {
    "metadata": {}
   },
   "outputs": [
    {
     "name": "stdout",
     "output_type": "stream",
     "text": [
      "output_0 shape:  (116, 8400)\n",
      "prototypes shape:  (32, 160, 160)\n"
     ]
    }
   ],
   "source": [
    "# check the output shape\n",
    "print(\"output_0 shape: \", output_0.shape)\n",
    "print(\"prototypes shape: \", prototypes.shape)"
   ]
  },
  {
   "cell_type": "code",
   "execution_count": 11,
   "metadata": {
    "metadata": {}
   },
   "outputs": [
    {
     "ename": "NameError",
     "evalue": "name 'resize' is not defined",
     "output_type": "error",
     "traceback": [
      "\u001b[0;31m---------------------------------------------------------------------------\u001b[0m",
      "\u001b[0;31mNameError\u001b[0m                                 Traceback (most recent call last)",
      "Cell \u001b[0;32mIn[11], line 3\u001b[0m\n\u001b[1;32m      1\u001b[0m output_0\u001b[38;5;241m=\u001b[39mnp\u001b[38;5;241m.\u001b[39msqueeze(outputs[\u001b[38;5;241m0\u001b[39m])\n\u001b[1;32m      2\u001b[0m prototypes\u001b[38;5;241m=\u001b[39mnp\u001b[38;5;241m.\u001b[39msqueeze(outputs[\u001b[38;5;241m1\u001b[39m])\n\u001b[0;32m----> 3\u001b[0m l_mask,l_class,l_conf\u001b[38;5;241m=\u001b[39m\u001b[43mutils\u001b[49m\u001b[38;5;241;43m.\u001b[39;49m\u001b[43mextract_masks\u001b[49m\u001b[43m(\u001b[49m\u001b[43moutput_0\u001b[49m\u001b[43m,\u001b[49m\u001b[43mprototypes\u001b[49m\u001b[43m,\u001b[49m\u001b[43mdesired_image_size\u001b[49m\u001b[43m)\u001b[49m\n\u001b[1;32m      5\u001b[0m \u001b[38;5;66;03m# Determine the number of subplots needed\u001b[39;00m\n\u001b[1;32m      6\u001b[0m num_plots \u001b[38;5;241m=\u001b[39m \u001b[38;5;28mlen\u001b[39m(l_mask)\n",
      "File \u001b[0;32m~/Documents/my_experiments/yolov8/git_repo_tutorial/utils.py:113\u001b[0m, in \u001b[0;36mextract_masks\u001b[0;34m(output_0, prototypes, input_size, threshold_detection, theshold_iou, threshold_mask)\u001b[0m\n\u001b[1;32m    111\u001b[0m \u001b[38;5;66;03m# Resize each image in the array\u001b[39;00m\n\u001b[1;32m    112\u001b[0m \u001b[38;5;28;01mfor\u001b[39;00m i, image \u001b[38;5;129;01min\u001b[39;00m \u001b[38;5;28menumerate\u001b[39m(mask):\n\u001b[0;32m--> 113\u001b[0m     resized_mask[i] \u001b[38;5;241m=\u001b[39m \u001b[43mresize\u001b[49m(image, input_size, anti_aliasing\u001b[38;5;241m=\u001b[39m\u001b[38;5;28;01mTrue\u001b[39;00m)\n\u001b[1;32m    114\u001b[0m l_mask\u001b[38;5;241m.\u001b[39mappend(threshold_image(crop_image(np\u001b[38;5;241m.\u001b[39mmean(resized_mask, axis\u001b[38;5;241m=\u001b[39m\u001b[38;5;241m0\u001b[39m),detection[:\u001b[38;5;241m4\u001b[39m]),threshold_mask))\n\u001b[1;32m    115\u001b[0m l_class\u001b[38;5;241m.\u001b[39mappend(k)\n",
      "\u001b[0;31mNameError\u001b[0m: name 'resize' is not defined"
     ]
    }
   ],
   "source": [
    "output_0=np.squeeze(outputs[0])\n",
    "prototypes=np.squeeze(outputs[1])\n",
    "l_mask,l_class,l_conf=utils.extract_masks(output_0,prototypes,desired_image_size)\n",
    "\n",
    "# Determine the number of subplots needed\n",
    "num_plots = len(l_mask)\n",
    "\n",
    "# Calculate the number of rows and columns for the subplot grid\n",
    "num_rows = 1  # Number of rows\n",
    "num_cols = num_plots  # Number of columns\n",
    "\n",
    "# Create a figure and a grid of subplots\n",
    "fig, axes = plt.subplots(num_rows, num_cols, figsize=(15, 5))\n",
    "\n",
    "# Iterate over each subplot\n",
    "for k, ax in enumerate(axes):\n",
    "    ax.imshow(l_mask[k], cmap='gray')\n",
    "    title = f\"{utils.classes[l_class[k]]} conf: {l_conf[k]:.2f}\"\n",
    "    ax.set_title(title)\n",
    "    ax.axis('off')  # Turn off axis\n",
    "\n",
    "plt.tight_layout()  # Adjust layout\n",
    "plt.show()"
   ]
  }
 ],
 "metadata": {
  "kernelspec": {
   "display_name": "ultralytics",
   "language": "python",
   "name": "python3"
  },
  "language_info": {
   "codemirror_mode": {
    "name": "ipython",
    "version": 3
   },
   "file_extension": ".py",
   "mimetype": "text/x-python",
   "name": "python",
   "nbconvert_exporter": "python",
   "pygments_lexer": "ipython3",
   "version": "3.12.1"
  }
 },
 "nbformat": 4,
 "nbformat_minor": 2
}
